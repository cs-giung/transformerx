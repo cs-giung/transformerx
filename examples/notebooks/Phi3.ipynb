{
 "cells": [
  {
   "cell_type": "code",
   "execution_count": 1,
   "metadata": {},
   "outputs": [],
   "source": [
    "import sys\n",
    "sys.path.append('../../')"
   ]
  },
  {
   "cell_type": "code",
   "execution_count": 2,
   "metadata": {},
   "outputs": [],
   "source": [
    "import jax\n",
    "import jax.numpy as jnp\n",
    "from einshard import einshard\n",
    "from transformers import AutoTokenizer\n",
    "from transformerx.models.llama.default import \\\n",
    "    get_tokenize_fn, load_jx_config, load_jx_params\n",
    "from transformerx.models.llama.modeling import forward_fn, LlamaInputs"
   ]
  },
  {
   "cell_type": "code",
   "execution_count": 3,
   "metadata": {},
   "outputs": [
    {
     "data": {
      "application/vnd.jupyter.widget-view+json": {
       "model_id": "6fcb5b491e4f4b478d846ec9dd7cca94",
       "version_major": 2,
       "version_minor": 0
      },
      "text/plain": [
       "Loading checkpoint shards:   0%|          | 0/2 [00:00<?, ?it/s]"
      ]
     },
     "metadata": {},
     "output_type": "display_data"
    }
   ],
   "source": [
    "model = 'microsoft/Phi-3-mini-4k-instruct'\n",
    "config = load_jx_config(model)\n",
    "params = load_jx_params(model)"
   ]
  },
  {
   "cell_type": "code",
   "execution_count": 4,
   "metadata": {},
   "outputs": [],
   "source": [
    "params = jax.tree_util.tree_map(\n",
    "    lambda e: einshard(e, '... O -> ... O*'), params)"
   ]
  },
  {
   "cell_type": "code",
   "execution_count": 5,
   "metadata": {},
   "outputs": [
    {
     "name": "stderr",
     "output_type": "stream",
     "text": [
      "Special tokens have been added in the vocabulary, make sure the associated word embeddings are fine-tuned or trained.\n"
     ]
    },
    {
     "name": "stderr",
     "output_type": "stream",
     "text": [
      "Special tokens have been added in the vocabulary, make sure the associated word embeddings are fine-tuned or trained.\n"
     ]
    }
   ],
   "source": [
    "tokenize_fn = get_tokenize_fn(model, max_length=4096, padding_side='left')\n",
    "detokenize_fn = AutoTokenizer.from_pretrained(model).batch_decode"
   ]
  },
  {
   "cell_type": "code",
   "execution_count": 6,
   "metadata": {},
   "outputs": [
    {
     "name": "stdout",
     "output_type": "stream",
     "text": [
      "Hello, who are you? I\n",
      "Hello, who are you? I am\n",
      "Hello, who are you? I am Ph\n",
      "Hello, who are you? I am Phi\n",
      "Hello, who are you? I am Phi,\n",
      "Hello, who are you? I am Phi, an\n",
      "Hello, who are you? I am Phi, an A\n",
      "Hello, who are you? I am Phi, an AI\n",
      "Hello, who are you? I am Phi, an AI developed\n",
      "Hello, who are you? I am Phi, an AI developed to\n",
      "Hello, who are you? I am Phi, an AI developed to provide\n",
      "Hello, who are you? I am Phi, an AI developed to provide information\n",
      "Hello, who are you? I am Phi, an AI developed to provide information,\n",
      "Hello, who are you? I am Phi, an AI developed to provide information, answer\n",
      "Hello, who are you? I am Phi, an AI developed to provide information, answer questions\n",
      "Hello, who are you? I am Phi, an AI developed to provide information, answer questions,\n",
      "Hello, who are you? I am Phi, an AI developed to provide information, answer questions, and\n",
      "Hello, who are you? I am Phi, an AI developed to provide information, answer questions, and assist\n",
      "Hello, who are you? I am Phi, an AI developed to provide information, answer questions, and assist users\n",
      "Hello, who are you? I am Phi, an AI developed to provide information, answer questions, and assist users to\n",
      "Hello, who are you? I am Phi, an AI developed to provide information, answer questions, and assist users to the\n",
      "Hello, who are you? I am Phi, an AI developed to provide information, answer questions, and assist users to the best\n",
      "Hello, who are you? I am Phi, an AI developed to provide information, answer questions, and assist users to the best of\n",
      "Hello, who are you? I am Phi, an AI developed to provide information, answer questions, and assist users to the best of my\n",
      "Hello, who are you? I am Phi, an AI developed to provide information, answer questions, and assist users to the best of my ability\n",
      "Hello, who are you? I am Phi, an AI developed to provide information, answer questions, and assist users to the best of my ability within\n",
      "Hello, who are you? I am Phi, an AI developed to provide information, answer questions, and assist users to the best of my ability within my\n",
      "Hello, who are you? I am Phi, an AI developed to provide information, answer questions, and assist users to the best of my ability within my programming\n",
      "Hello, who are you? I am Phi, an AI developed to provide information, answer questions, and assist users to the best of my ability within my programming and\n",
      "Hello, who are you? I am Phi, an AI developed to provide information, answer questions, and assist users to the best of my ability within my programming and capabilities\n",
      "Hello, who are you? I am Phi, an AI developed to provide information, answer questions, and assist users to the best of my ability within my programming and capabilities.\n",
      "Hello, who are you? I am Phi, an AI developed to provide information, answer questions, and assist users to the best of my ability within my programming and capabilities. How\n",
      "Hello, who are you? I am Phi, an AI developed to provide information, answer questions, and assist users to the best of my ability within my programming and capabilities. How can\n",
      "Hello, who are you? I am Phi, an AI developed to provide information, answer questions, and assist users to the best of my ability within my programming and capabilities. How can I\n",
      "Hello, who are you? I am Phi, an AI developed to provide information, answer questions, and assist users to the best of my ability within my programming and capabilities. How can I assist\n",
      "Hello, who are you? I am Phi, an AI developed to provide information, answer questions, and assist users to the best of my ability within my programming and capabilities. How can I assist you\n",
      "Hello, who are you? I am Phi, an AI developed to provide information, answer questions, and assist users to the best of my ability within my programming and capabilities. How can I assist you today\n",
      "Hello, who are you? I am Phi, an AI developed to provide information, answer questions, and assist users to the best of my ability within my programming and capabilities. How can I assist you today?\n",
      "Hello, who are you? I am Phi, an AI developed to provide information, answer questions, and assist users to the best of my ability within my programming and capabilities. How can I assist you today?\n"
     ]
    }
   ],
   "source": [
    "prompt = '<|user|>\\n' + 'Hello, who are you?' + '<|end|>\\n<|assistant|>'\n",
    "inputs = LlamaInputs(**tokenize_fn(prompt))\n",
    "\n",
    "while True:\n",
    "    logits = forward_fn(params, inputs, config).logits[:, -1]\n",
    "    new_token = jnp.argmax(logits, axis=-1, keepdims=True)\n",
    "    new_shift = new_token.shape[1]\n",
    "    inputs = LlamaInputs(\n",
    "        input_ids=jnp.hstack((\n",
    "            inputs.input_ids[:, new_shift:],\n",
    "            new_token)),\n",
    "        attention_mask=jnp.hstack((\n",
    "            inputs.attention_mask[:, new_shift:],\n",
    "            jnp.ones_like(new_token))),\n",
    "        position_ids=jnp.hstack((\n",
    "            inputs.position_ids[:, new_shift:],\n",
    "            inputs.position_ids[:, -new_shift:] + new_shift)))\n",
    "    print(detokenize_fn(inputs.input_ids, skip_special_tokens=True)[0])\n",
    "    if new_token[0][0] == tokenize_fn('<|end|>')['input_ids'][0, -1]:\n",
    "        break"
   ]
  }
 ],
 "metadata": {
  "kernelspec": {
   "display_name": ".venv",
   "language": "python",
   "name": "python3"
  },
  "language_info": {
   "codemirror_mode": {
    "name": "ipython",
    "version": 3
   },
   "file_extension": ".py",
   "mimetype": "text/x-python",
   "name": "python",
   "nbconvert_exporter": "python",
   "pygments_lexer": "ipython3",
   "version": "3.12.3"
  }
 },
 "nbformat": 4,
 "nbformat_minor": 2
}
